{
 "cells": [
  {
   "cell_type": "markdown",
   "metadata": {},
   "source": [
    "# Recursive Functions - Lab"
   ]
  },
  {
   "cell_type": "markdown",
   "metadata": {},
   "source": [
    "## Introduction\n",
    "\n",
    "Now that you've seen a little preview of recursive functions, it's time to give them a try!"
   ]
  },
  {
   "cell_type": "markdown",
   "metadata": {},
   "source": [
    "## Objectives\n",
    "You will be able to:\n",
    "* Understand and use the concept of a recursive function \n",
    "* Understand scope in the context of recursive functions\n",
    "* Understand and compare depth first versus breadth first searches"
   ]
  },
  {
   "cell_type": "markdown",
   "metadata": {},
   "source": [
    "## Fibonacci\n",
    "\n",
    "The Fibonacci sequence starts off:\n",
    "1,1,2,3,5,8,13,21,34,...\n",
    "\n",
    "Each number is the sum of the two preceding. Write a recursive function that calculates the nth number of the Fibonacci sequence. For example, our sequence above would correspond to:\n",
    "\n",
    "fib(1) = 1 #The 1st element in the sequence is 1\n",
    "fib(2) = 1 #The 2nd element in the sequence is 1\n",
    "fib(3) = 2 #The 3rd element in the sequence is 2\n",
    "fib(4) = 3 #The 4th element in the sequence is 3\n",
    "fib(5) = 5 #The 5th element in the sequence is 5\n",
    "fib(6) = 8 #The 6th element in the sequence is 8\n",
    "fib(7) = 13 #The 7th element in the sequence is 13\n",
    "fib(8) = 21 #The 8th element in the sequence is 21\n",
    "fib(9) = 34 #The 9th element in the sequence is 34"
   ]
  },
  {
   "cell_type": "code",
   "execution_count": 16,
   "metadata": {},
   "outputs": [],
   "source": [
    "def slow_fib(n):\n",
    "    \"\"\"\n",
    "    input\n",
    "    n: integer - the number of fibonacci numbers in your list\n",
    "    \n",
    "    return\n",
    "    return the nth fibonacci number\n",
    "    \"\"\"\n",
    "    if n < 1: return None\n",
    "    if n == 1: return [1]\n",
    "    if n == 2: return [1, 1]\n",
    "    fib_list = [1, 1]\n",
    "    for i in range(n-2):\n",
    "        new_number = fib_list[-1] + fib_list[-2]\n",
    "        fib_list.append(new_number)\n",
    "    return fib_list[n-1]"
   ]
  },
  {
   "cell_type": "code",
   "execution_count": 17,
   "metadata": {},
   "outputs": [
    {
     "data": {
      "text/plain": [
       "5"
      ]
     },
     "execution_count": 17,
     "metadata": {},
     "output_type": "execute_result"
    }
   ],
   "source": [
    "slow_fib(5)"
   ]
  },
  {
   "cell_type": "code",
   "execution_count": 12,
   "metadata": {},
   "outputs": [
    {
     "name": "stdout",
     "output_type": "stream",
     "text": [
      "[1] [1, 1] [1, 1, 2]\n"
     ]
    }
   ],
   "source": [
    "print(slow_fib(1), slow_fib(2), slow_fib(3))"
   ]
  },
  {
   "cell_type": "code",
   "execution_count": 26,
   "metadata": {},
   "outputs": [],
   "source": [
    "#Your code here\n",
    "def fib(n):\n",
    "    if n == 1: return 1\n",
    "    if n == 2: return 1\n",
    "    return fib(n-1) + fib(n-2)"
   ]
  },
  {
   "cell_type": "code",
   "execution_count": 27,
   "metadata": {},
   "outputs": [
    {
     "data": {
      "text/plain": [
       "55"
      ]
     },
     "execution_count": 27,
     "metadata": {},
     "output_type": "execute_result"
    }
   ],
   "source": [
    "fib(10)"
   ]
  },
  {
   "cell_type": "markdown",
   "metadata": {},
   "source": [
    "## Flat List\n",
    "\n",
    "Write a function that takes a nested list and flattens it to a list of ints, floats and strings.\n",
    "For example the nested list [1,[2,3[4,5,6]], 7, [8], [9,10]] would become [1,2,3,4,5,6,7,8,9,10] or \n",
    "[1,2[3,4,[5]]] would become [1,2,3,4,5]."
   ]
  },
  {
   "cell_type": "code",
   "execution_count": 58,
   "metadata": {},
   "outputs": [],
   "source": [
    "def flat_list(L, flattened_list=[]): # [1, [2, 3, 4]]\n",
    "    for element in L:\n",
    "        if isinstance(element, list):\n",
    "            flat_list(element, flattened_list)\n",
    "        else:\n",
    "            flattened_list.append(element)\n",
    "    return flattened_list"
   ]
  },
  {
   "cell_type": "code",
   "execution_count": 61,
   "metadata": {},
   "outputs": [
    {
     "data": {
      "text/plain": [
       "[1, 2, 3, 4, 1, 2, 3, 4, 1, 2, 3, 4]"
      ]
     },
     "execution_count": 61,
     "metadata": {},
     "output_type": "execute_result"
    }
   ],
   "source": [
    "flat_list([1, [2, 3, [4]]]) \n",
    "\n",
    "# [1, [2, 3, [4]]] ->\n",
    "# 1 -> [1]\n",
    "# [2, 3, [4]] -> [2, 3, [4]]\n",
    "                # 2 -> [1, 2]\n",
    "                # 3 -> [1, 2, 3]\n",
    "                # [4] -> \n",
    "                        # 4 -> [1, 2, 3, 4]"
   ]
  },
  {
   "cell_type": "markdown",
   "metadata": {},
   "source": [
    "## Depth vs Breadth First Search\n",
    "\n",
    "Did you use breadth or depth first recursive calls above? Explain."
   ]
  },
  {
   "cell_type": "code",
   "execution_count": null,
   "metadata": {},
   "outputs": [],
   "source": [
    "#Your answer here.\n",
    "\"\"\"\n",
    "depth, because we are going into our object (list)\n",
    "\"\"\""
   ]
  },
  {
   "cell_type": "markdown",
   "metadata": {},
   "source": [
    "## Summary\n",
    "Well done! Recursive functions are an advanced topic in Python and you got some good practice tackling classic problems here."
   ]
  }
 ],
 "metadata": {
  "kernelspec": {
   "display_name": "Python 3",
   "language": "python",
   "name": "python3"
  },
  "language_info": {
   "codemirror_mode": {
    "name": "ipython",
    "version": 3
   },
   "file_extension": ".py",
   "mimetype": "text/x-python",
   "name": "python",
   "nbconvert_exporter": "python",
   "pygments_lexer": "ipython3",
   "version": "3.6.5"
  }
 },
 "nbformat": 4,
 "nbformat_minor": 2
}
